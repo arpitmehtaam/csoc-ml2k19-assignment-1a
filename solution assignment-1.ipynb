{
 "cells": [
  {
   "cell_type": "code",
   "execution_count": null,
   "metadata": {},
   "outputs": [],
   "source": [
    "import pickle\n",
    "import numpy as np"
   ]
  },
  {
   "cell_type": "markdown",
   "metadata": {},
   "source": [
    "### About libraries\n",
    "Numpy is a very useful python library. Using [NumPy](http://cs231n.github.io/python-numpy-tutorial/), mathematical and logical operations on arrays can be performed.\n",
    "<br>The [pickle](https://www.youtube.com/watch?v=2Tw39kZIbhs) module implements a fundamental, but powerful algorithm for serializing and de-serializing a Python object structure."
   ]
  },
  {
   "cell_type": "code",
   "execution_count": null,
   "metadata": {},
   "outputs": [],
   "source": [
    "## Code to load the array\n",
    "with open('array.pickle', 'rb') as p:\n",
    "    arr = pickle.load(p)"
   ]
  },
  {
   "cell_type": "markdown",
   "metadata": {},
   "source": [
    "### Task 1: Write the code and check the size of the array"
   ]
  },
  {
   "cell_type": "code",
   "execution_count": 1,
   "metadata": {},
   "outputs": [
    {
     "data": {
      "text/plain": [
       "5"
      ]
     },
     "execution_count": 1,
     "metadata": {},
     "output_type": "execute_result"
    }
   ],
   "source": [
    "## BEGIN CODE\n",
    "import numpy as np\n",
    "a=np.array([1,2,3,4,4])\n",
    "a.size\n",
    "## END CODE"
   ]
  },
  {
   "cell_type": "markdown",
   "metadata": {},
   "source": [
    "Check that the size of the array (arr) is 1000. Please report in case fo any discrepancy."
   ]
  },
  {
   "cell_type": "markdown",
   "metadata": {},
   "source": [
    "### Task 2: Resize the array to a (40x50) matrix"
   ]
  },
  {
   "cell_type": "code",
   "execution_count": 7,
   "metadata": {},
   "outputs": [
    {
     "name": "stdout",
     "output_type": "stream",
     "text": [
      "[[   0    1    2 ...   47   48   49]\n",
      " [  50   51   52 ...   97   98   99]\n",
      " [ 100  101  102 ...  147  148  149]\n",
      " ...\n",
      " [1850 1851 1852 ... 1897 1898 1899]\n",
      " [1900 1901 1902 ... 1947 1948 1949]\n",
      " [1950 1951 1952 ... 1997 1998 1999]]\n"
     ]
    }
   ],
   "source": [
    "## BEGIN CODE\n",
    "import numpy as np\n",
    "l=np.arange(2000).reshape(40,50)\n",
    "print(l)\n",
    "\n",
    "## END CODE"
   ]
  },
  {
   "cell_type": "markdown",
   "metadata": {},
   "source": [
    "### Task 3: Find the transpose of this matrix"
   ]
  },
  {
   "cell_type": "code",
   "execution_count": 10,
   "metadata": {},
   "outputs": [],
   "source": [
    "## BEGIN CODE\n",
    "l.transpose()\n",
    "## END CODE"
   ]
  },
  {
   "cell_type": "markdown",
   "metadata": {},
   "source": [
    "### Task 3: Find the dot product of the matrices created in Tasks 2 & 3"
   ]
  },
  {
   "cell_type": "code",
   "execution_count": 14,
   "metadata": {},
   "outputs": [
    {
     "name": "stdout",
     "output_type": "stream",
     "text": [
      "[[    40425    101675    162925 ...   2306675   2367925   2429175]\n",
      " [   101675    287925    474175 ...   6992925   7179175   7365425]\n",
      " [   162925    474175    785425 ...  11679175  11990425  12301675]\n",
      " ...\n",
      " [  2306675   6992925  11679175 ... 175697925 180384175 185070425]\n",
      " [  2367925   7179175  11990425 ... 180384175 185195425 190006675]\n",
      " [  2429175   7365425  12301675 ... 185070425 190006675 194942925]]\n"
     ]
    }
   ],
   "source": [
    "## BEGIN CODE\n",
    "c=l.dot(l.transpose())\n",
    "print(c)\n",
    "## END CODE"
   ]
  },
  {
   "cell_type": "markdown",
   "metadata": {},
   "source": [
    "### Task 4: Find the row wise sum of the resulting matrix"
   ]
  },
  {
   "cell_type": "code",
   "execution_count": 15,
   "metadata": {},
   "outputs": [
    {
     "data": {
      "text/plain": [
       "array([   49392000,   149342000,   249292000,   349242000,   449192000,\n",
       "         549142000,   649092000,   749042000,   848992000,   948942000,\n",
       "        1048892000,  1148842000,  1248792000,  1348742000,  1448692000,\n",
       "        1548642000,  1648592000,  1748542000,  1848492000,  1948442000,\n",
       "        2048392000, -2146625296, -2046675296, -1946725296, -1846775296,\n",
       "       -1746825296, -1646875296, -1546925296, -1446975296, -1347025296,\n",
       "       -1247075296, -1147125296, -1047175296,  -947225296,  -847275296,\n",
       "        -747325296,  -647375296,  -547425296,  -447475296,  -347525296])"
      ]
     },
     "execution_count": 15,
     "metadata": {},
     "output_type": "execute_result"
    }
   ],
   "source": [
    "## BEGIN CODE\n",
    "c.sum(axis=1)\n",
    "## END CODE"
   ]
  },
  {
   "cell_type": "markdown",
   "metadata": {},
   "source": [
    "### Task 5: Find the cube root of all elements in the resulting matrix"
   ]
  },
  {
   "cell_type": "code",
   "execution_count": 16,
   "metadata": {},
   "outputs": [
    {
     "name": "stdout",
     "output_type": "stream",
     "text": [
      "[[ 34.32021577  46.67361008  54.61717627 ... 132.12818509 133.28746686\n",
      "  134.42692603]\n",
      " [ 46.67361008  66.03281197  77.97933926 ... 191.22864899 192.91152755\n",
      "  194.56554603]\n",
      " [ 54.61717627  77.97933926  92.26455828 ... 226.88409668 228.88193987\n",
      "  230.84550178]\n",
      " ...\n",
      " [132.12818509 191.22864899 226.88409668 ... 560.08706661 565.02302357\n",
      "  569.8742156 ]\n",
      " [133.28746686 192.91152755 228.88193987 ... 565.02302357 570.00248793\n",
      "  574.89644008]\n",
      " [134.42692603 194.56554603 230.84550178 ... 569.8742156  574.89644008\n",
      "  579.83241789]]\n"
     ]
    }
   ],
   "source": [
    "## BEGIN CODE\n",
    "print(c**(1/3))\n",
    "## END CODE"
   ]
  },
  {
   "cell_type": "markdown",
   "metadata": {},
   "source": [
    "### Task 6: Find the sine,cos and tan-1 value of all elements in the resulting matrix"
   ]
  },
  {
   "cell_type": "code",
   "execution_count": 20,
   "metadata": {},
   "outputs": [
    {
     "data": {
      "text/plain": [
       "array([[1., 1., 1., ..., 1., 1., 1.],\n",
       "       [1., 1., 1., ..., 1., 1., 1.],\n",
       "       [1., 1., 1., ..., 1., 1., 1.],\n",
       "       ...,\n",
       "       [1., 1., 1., ..., 1., 1., 1.],\n",
       "       [1., 1., 1., ..., 1., 1., 1.],\n",
       "       [1., 1., 1., ..., 1., 1., 1.]])"
      ]
     },
     "execution_count": 20,
     "metadata": {},
     "output_type": "execute_result"
    }
   ],
   "source": [
    "## BEGIN CODE(1 line of code for each)\n",
    "import numpy as np\n",
    "#for sine\n",
    "np.sin(c)\n",
    "#for cos\n",
    "np.cos(c)\n",
    "#for tan-1\n",
    "np.tanh(c)\n",
    "## END CODE"
   ]
  },
  {
   "cell_type": "markdown",
   "metadata": {},
   "source": [
    "# Bonus Task"
   ]
  },
  {
   "cell_type": "markdown",
   "metadata": {},
   "source": [
    "### Normalizing rows\n",
    "\n",
    "Normalization is a common technique we use in Machine Learning and Deep Learning is to normalize our data. Here, by normalization we mean changing x to $ \\frac{x}{\\| x\\|} $ (dividing each row vector of x by its norm).\n",
    "\n",
    "For example, if $$x = \n",
    "\\begin{bmatrix}\n",
    "    0 & 3 & 4 \\\\\n",
    "    2 & 6 & 4 \\\\\n",
    "\\end{bmatrix}\\tag{1}$$ then $$\\| x\\| = np.linalg.norm(x, axis = 1, keepdims = True) = \\begin{bmatrix}\n",
    "    5 \\\\\n",
    "    \\sqrt{56} \\\\\n",
    "\\end{bmatrix}\\tag{2} $$and        $$ x\\_normalized = \\frac{x}{\\| x\\|} = \\begin{bmatrix}\n",
    "    0 & \\frac{3}{5} & \\frac{4}{5} \\\\\n",
    "    \\frac{2}{\\sqrt{56}} & \\frac{6}{\\sqrt{56}} & \\frac{4}{\\sqrt{56}} \\\\\n",
    "\\end{bmatrix}\\tag{3}$$ Note that you can divide matrices of different sizes and it works fine: this is called broadcasting and you're going to learn about it in part 3.\n",
    "\n",
    "\n",
    "**Exercise**: Implement normalizeRows() to normalize the rows of a matrix . After applying this function to an input matrix x, each row of x should be a vector of unit length (meaning length 1)."
   ]
  },
  {
   "cell_type": "code",
   "execution_count": null,
   "metadata": {},
   "outputs": [],
   "source": [
    "def normalizeRows(x):\n",
    "    \"\"\"\n",
    "    Implement a function that normalizes each row of the matrix x (to have unit length).\n",
    "    \n",
    "    Argument:\n",
    "    x -- A numpy matrix of shape (n, m)\n",
    "    \n",
    "    Returns:\n",
    "    x -- The normalized (by row) numpy matrix. You are allowed to modify x.\n",
    "    \"\"\"\n",
    "    \n",
    "    #Begin Here(≈ 2 lines of code)\n",
    "    # Compute x_norm as the norm 2 of x. Use np.linalg.norm(..., ord = 2, axis = ..., keepdims = True)\n",
    "    \n",
    "    \n",
    "\n",
    "    # Divide x by its norm.\n",
    "    \n",
    "    \n",
    "    #END CODE\n",
    "\n",
    "    return x_normf"
   ]
  },
  {
   "cell_type": "code",
   "execution_count": null,
   "metadata": {},
   "outputs": [],
   "source": [
    "x = np.array([\n",
    "    [0, 5, 7],\n",
    "    [7, 3, 4]])\n",
    "print(\"normalizeRows(x) = \" + str(normalizeRows(x)))"
   ]
  },
  {
   "cell_type": "markdown",
   "metadata": {},
   "source": [
    "**Expected Output**: \n",
    "\n",
    "<table style=\"width:60%\">\n",
    "\n",
    "   <tr> \n",
    "       <td> normalizeRows(x) </td> \n",
    "       <td> [[0.          0.58123819  0.81373347]\n",
    " <br>[0.81373347  0.34874292  0.46499055]</td> \n",
    "     </tr>\n",
    "    \n",
    "   \n",
    "</table>"
   ]
  },
  {
   "cell_type": "markdown",
   "metadata": {},
   "source": [
    "## Create submission file"
   ]
  },
  {
   "cell_type": "code",
   "execution_count": null,
   "metadata": {},
   "outputs": [],
   "source": [
    "## Assign the name of the variable containing the final matrix of Task6 to VARIABLE_NAME variable.\n",
    "\n",
    "VARIABLE_NAME = \n",
    "with open('submission.pickle', 'wb') as p:\n",
    "    pickle.dump(VARIABLE_NAME, p)"
   ]
  }
 ],
 "metadata": {
  "kernelspec": {
   "display_name": "Python 3",
   "language": "python",
   "name": "python3"
  },
  "language_info": {
   "codemirror_mode": {
    "name": "ipython",
    "version": 3
   },
   "file_extension": ".py",
   "mimetype": "text/x-python",
   "name": "python",
   "nbconvert_exporter": "python",
   "pygments_lexer": "ipython3",
   "version": "3.7.1"
  }
 },
 "nbformat": 4,
 "nbformat_minor": 2
}
